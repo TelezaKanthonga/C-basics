{
  "nbformat": 4,
  "nbformat_minor": 0,
  "metadata": {
    "colab": {
      "provenance": [],
      "authorship_tag": "ABX9TyPYgdVIfIWfVMgKl1CHnpnE",
      "include_colab_link": true
    },
    "kernelspec": {
      "name": "python3",
      "display_name": "Python 3"
    },
    "language_info": {
      "name": "python"
    }
  },
  "cells": [
    {
      "cell_type": "markdown",
      "metadata": {
        "id": "view-in-github",
        "colab_type": "text"
      },
      "source": [
        "<a href=\"https://colab.research.google.com/github/TelezaKanthonga/C-basics/blob/master/cnnTesting.ipynb\" target=\"_parent\"><img src=\"https://colab.research.google.com/assets/colab-badge.svg\" alt=\"Open In Colab\"/></a>"
      ]
    },
    {
      "cell_type": "code",
      "source": [
        "from google.colab import drive\n",
        "drive.mount('/content/drive')\n"
      ],
      "metadata": {
        "colab": {
          "base_uri": "https://localhost:8080/"
        },
        "id": "I28gbOK5G5Hy",
        "outputId": "4dc52585-9239-4f2e-f48a-79534e3f6227"
      },
      "execution_count": 1,
      "outputs": [
        {
          "output_type": "stream",
          "name": "stdout",
          "text": [
            "Mounted at /content/drive\n"
          ]
        }
      ]
    },
    {
      "cell_type": "code",
      "source": [
        "!pip install numpy"
      ],
      "metadata": {
        "colab": {
          "base_uri": "https://localhost:8080/"
        },
        "id": "53umL7_THR-0",
        "outputId": "6deafee5-30d2-4da7-c1a9-fc633b485fd0"
      },
      "execution_count": 4,
      "outputs": [
        {
          "output_type": "stream",
          "name": "stdout",
          "text": [
            "Requirement already satisfied: numpy in /usr/local/lib/python3.10/dist-packages (1.22.4)\n"
          ]
        }
      ]
    },
    {
      "cell_type": "code",
      "source": [
        "from tensorflow.keras.models import load_model\n",
        "\n",
        "model_path = '/content/drive/MyDrive/cnn_trained_model2.h5'\n",
        "model = load_model(model_path)\n"
      ],
      "metadata": {
        "id": "ZiFfh0jOG5d9"
      },
      "execution_count": 5,
      "outputs": []
    },
    {
      "cell_type": "code",
      "source": [
        "from tensorflow.keras.preprocessing import image\n",
        "import numpy as np\n",
        "\n",
        "img_width, img_height = 224, 224\n",
        "\n",
        "image_path = '/content/drive/MyDrive/copy92.jpg'\n",
        "img = image.load_img(image_path, target_size=(img_width, img_height))\n",
        "img = image.img_to_array(img)\n",
        "img = np.expand_dims(img, axis=0)\n",
        "img = img / 255.0  # normalize the image\n",
        "\n"
      ],
      "metadata": {
        "id": "XlrSBCofPaNM"
      },
      "execution_count": null,
      "outputs": []
    },
    {
      "cell_type": "code",
      "source": [
        "\n",
        "class_label = 'negative' if prediction > 0.5 else 'positive'\n",
        "print('Prediction:', class_label)\n",
        "prediction = model.predict(img)"
      ],
      "metadata": {
        "colab": {
          "base_uri": "https://localhost:8080/"
        },
        "id": "QX_b2Q02Pm0B",
        "outputId": "888f6853-2ac4-4cc7-8870-695bfa894b46"
      },
      "execution_count": null,
      "outputs": [
        {
          "output_type": "stream",
          "name": "stdout",
          "text": [
            "Prediction: negative\n",
            "1/1 [==============================] - 0s 125ms/step\n"
          ]
        }
      ]
    },
    {
      "cell_type": "code",
      "source": [
        "from tensorflow.keras.models import load_model\n",
        "from tensorflow.keras.preprocessing import image\n",
        "import numpy as np\n",
        "\n",
        "# Load the trained model\n",
        "model_path = '/content/drive/MyDrive/cnn_trained_model2.h5'\n",
        "model = load_model(model_path)\n",
        "\n",
        "# Load and preprocess the image\n",
        "img_width, img_height = 224, 224\n",
        "image_path = '/content/drive/MyDrive/copy92.jpg'\n",
        "img = image.load_img(image_path, target_size=(img_width, img_height))\n",
        "img = image.img_to_array(img)\n",
        "img = img / 255.0  # normalize the image\n",
        "img = np.expand_dims(img, axis=0)\n",
        "\n",
        "# Make the prediction\n",
        "prediction = model.predict(img)\n",
        "class_label = 'negative' if prediction > 0.5 else 'positive'\n",
        "\n",
        "print('Prediction:', class_label)\n"
      ],
      "metadata": {
        "colab": {
          "base_uri": "https://localhost:8080/"
        },
        "id": "E4j4zVkJAsY2",
        "outputId": "2ec1e237-1e6e-456f-ba9f-ff51ffc36084"
      },
      "execution_count": null,
      "outputs": [
        {
          "output_type": "stream",
          "name": "stdout",
          "text": [
            "1/1 [==============================] - 0s 121ms/step\n",
            "Prediction: positive\n"
          ]
        }
      ]
    },
    {
      "cell_type": "code",
      "source": [
        "from tensorflow.keras.models import load_model\n",
        "from tensorflow.keras.preprocessing import image\n",
        "import numpy as np\n",
        "\n",
        "# Load the trained model\n",
        "model_path = '/content/drive/MyDrive/cnn_trained_model2.h5'\n",
        "model = load_model(model_path)\n",
        "\n",
        "# Load and preprocess the image\n",
        "img_width, img_height = 224, 224\n",
        "image_path = '/content/drive/MyDrive/34.jpeg'\n",
        "img = image.load_img(image_path, target_size=(img_width, img_height))\n",
        "img = image.img_to_array(img)\n",
        "img = img / 255.0  # normalize the image\n",
        "img = np.expand_dims(img, axis=0)\n",
        "\n",
        "# Make the prediction\n",
        "prediction = model.predict(img)\n",
        "class_label = 'Healthy Groundnuts' if prediction > 0.5 else  'Aflatoxins Contaminated Groundnuts'\n",
        "\n",
        "print('Prediction:', class_label)\n"
      ],
      "metadata": {
        "colab": {
          "base_uri": "https://localhost:8080/"
        },
        "id": "K0GF3oecBh_2",
        "outputId": "260efe71-5917-4aea-fff9-1985cf99393e"
      },
      "execution_count": 8,
      "outputs": [
        {
          "output_type": "stream",
          "name": "stdout",
          "text": [
            "1/1 [==============================] - 0s 112ms/step\n",
            "Prediction: Aflatoxins Contaminated Groundnuts\n"
          ]
        }
      ]
    },
    {
      "cell_type": "code",
      "source": [
        "from tensorflow.keras.models import load_model\n",
        "from tensorflow.keras.preprocessing import image\n",
        "import numpy as np\n",
        "\n",
        "# Load the trained model\n",
        "model_path = '/content/drive/MyDrive/cnn_trained_model2.h5'\n",
        "model = load_model(model_path)\n",
        "\n",
        "# Function to predict class label for a single image\n",
        "def predict_class(image_path, model, img_width=224, img_height=224):\n",
        "    # Load and preprocess the image\n",
        "    img = image.load_img(image_path, target_size=(img_width, img_height))\n",
        "    img = image.img_to_array(img)\n",
        "    img = img / 255.0  # Normalize the image (as it was done during training)\n",
        "    img = np.expand_dims(img, axis=0)  # Add batch dimension as the model expects it\n",
        "\n",
        "    # Make the prediction\n",
        "    prediction = model.predict(img)\n",
        "    class_label = 'Healthy Groundnuts' if prediction > 0.5 else 'Aflatoxins Contaminated Groundnuts'\n",
        "\n",
        "    return class_label\n",
        "\n",
        "# Example usage\n",
        "image_path = '/content/drive/MyDrive/34.jpeg'\n",
        "predicted_class = predict_class(image_path, model)\n",
        "print('Prediction:', predicted_class)\n"
      ],
      "metadata": {
        "colab": {
          "base_uri": "https://localhost:8080/"
        },
        "id": "mYfiPejT3MXF",
        "outputId": "72306ef2-f95f-4a74-c028-5a99247bf85b"
      },
      "execution_count": 10,
      "outputs": [
        {
          "output_type": "stream",
          "name": "stdout",
          "text": [
            "1/1 [==============================] - 0s 139ms/step\n",
            "Prediction: Aflatoxins Contaminated Groundnuts\n"
          ]
        }
      ]
    }
  ]
}